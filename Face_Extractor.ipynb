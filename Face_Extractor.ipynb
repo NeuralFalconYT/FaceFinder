{
  "nbformat": 4,
  "nbformat_minor": 0,
  "metadata": {
    "colab": {
      "provenance": []
    },
    "kernelspec": {
      "name": "python3",
      "display_name": "Python 3"
    },
    "language_info": {
      "name": "python"
    }
  },
  "cells": [
    {
      "cell_type": "code",
      "execution_count": 1,
      "metadata": {
        "id": "_6pe8mtx8wWj"
      },
      "outputs": [],
      "source": [
        "!git clone https://github.com/NeuralFalconYT/FaceFinder.git\n",
        "!pip install yt-dlp==2024.2.16.232705.dev0\n",
        "!pip install ffmpeg==1.4\n",
        "!pip install openvino-dev==2023.0.0\n",
        "!pip install gradio\n",
        "from IPython.display import clear_output\n",
        "clear_output()"
      ]
    },
    {
      "cell_type": "code",
      "source": [
        "base_path = \"/content/\""
      ],
      "metadata": {
        "id": "zVXcl_JJCshH"
      },
      "execution_count": 2,
      "outputs": []
    },
    {
      "cell_type": "code",
      "source": [
        "#@title Download YT Video\n",
        "import re\n",
        "import unicodedata\n",
        "import os\n",
        "import shutil\n",
        "\n",
        "def clean_file_name(file_path):\n",
        "    file_name, file_extension = os.path.splitext(os.path.basename(file_path))\n",
        "\n",
        "    # Normalize the file name to remove emojis and special characters\n",
        "    normalized_name = unicodedata.normalize('NFKD', file_name)\n",
        "\n",
        "    # Remove emojis and unwanted characters using regex\n",
        "    cleaned_name = re.sub(r'[\\U00010000-\\U0010FFFF]', '', normalized_name)  # Remove emojis\n",
        "    cleaned_name = re.sub(r'[\\[\\](){}<>]', '', cleaned_name)  # Remove brackets\n",
        "    cleaned_name = re.sub(r'[^\\w\\s-]', '', cleaned_name)  # Remove special characters except for underscores and hyphens\n",
        "    cleaned_name = re.sub(r'\\s+', ' ', cleaned_name).strip()  # Remove extra spaces\n",
        "    cleaned_name = cleaned_name.replace(' ', '_')  # Replace spaces with underscores\n",
        "\n",
        "    return cleaned_name[:25] + file_extension  # Limit filename length\n",
        "\n",
        "def yt_video_download(yt_link):\n",
        "    global base_path\n",
        "    video_dir = os.path.join(base_path, \"youtube_video\")\n",
        "    temp_download_dir = os.path.join(base_path, \"temp_download\")\n",
        "\n",
        "    # Create necessary directories\n",
        "    os.makedirs(video_dir, exist_ok=True)  # Create if not exists\n",
        "    if os.path.exists(temp_download_dir):\n",
        "        shutil.rmtree(temp_download_dir)  # Remove old temp folder\n",
        "    os.makedirs(temp_download_dir)\n",
        "    os.chdir(temp_download_dir)\n",
        "    # Download the video\n",
        "    var = os.system(f\"yt-dlp {yt_link}\")\n",
        "    os.chdir(base_path)\n",
        "    if var == 0:  # Check if the command was successful\n",
        "        for file in os.listdir(temp_download_dir):\n",
        "            if file.lower().endswith(('.mkv', '.mp4')):  # Check for video file extensions\n",
        "                new_file_name = clean_file_name(file)\n",
        "                shutil.copy(os.path.join(temp_download_dir, file), os.path.join(video_dir, new_file_name))\n",
        "        return os.path.join(video_dir, new_file_name)  # Return the path of the last copied file\n",
        "    return None  # Return None if download failed\n",
        "YouTube_Video_Link=\"\" # @param {type: \"string\"}\n",
        "yt_vid_path=yt_video_download(YouTube_Video_Link)\n",
        "yt_vid_path"
      ],
      "metadata": {
        "colab": {
          "base_uri": "https://localhost:8080/",
          "height": 36
        },
        "cellView": "form",
        "id": "6gPomQf6By0H",
        "outputId": "b61d5a0a-83ce-476c-decd-c2a406f37331"
      },
      "execution_count": 3,
      "outputs": [
        {
          "output_type": "execute_result",
          "data": {
            "text/plain": [
              "'/content/youtube_video/Life_Inside_Brazilian_Meg.mp4'"
            ],
            "application/vnd.google.colaboratory.intrinsic+json": {
              "type": "string"
            }
          },
          "metadata": {},
          "execution_count": 3
        }
      ]
    },
    {
      "cell_type": "code",
      "source": [
        "#@title Enter video path\n",
        "os.chdir(f\"{base_path}/FaceFinder\")\n",
        "\n",
        "import os\n",
        "import cv2\n",
        "import time\n",
        "from src.face_detector import FaceDetector\n",
        "from src import utils\n",
        "# from tqdm import tqdm_notebook as tqdm\n",
        "from tqdm.notebook import tqdm\n",
        "# Change directory to the FaceFinder project folder\n",
        "import importlib\n",
        "\n",
        "# Reload the `utils` module from the `src` package\n",
        "import subprocess\n",
        "import re\n",
        "import os\n",
        "import zipfile\n",
        "import uuid\n",
        "\n",
        "def create_zip_from_folder():\n",
        "    global base_path\n",
        "    folder_path=f\"{base_path}/FaceFinder/faces\"\n",
        "    # Generate a random UUID for the zip file name\n",
        "    random_str=str(uuid.uuid4())[:6]\n",
        "    zip_file_name = f\"{random_str}.zip\"\n",
        "    save_zip_folder = os.path.join(base_path, \"save_zip\")\n",
        "\n",
        "    # Create the save_zip directory if it doesn't exist\n",
        "    os.makedirs(save_zip_folder, exist_ok=True)\n",
        "\n",
        "    # Define the path for the zip file\n",
        "    zip_file_path = os.path.join(save_zip_folder, zip_file_name)\n",
        "\n",
        "    # Create a zip file and add the folder contents to it\n",
        "    with zipfile.ZipFile(zip_file_path, 'w', zipfile.ZIP_DEFLATED) as zip_file:\n",
        "        for root, _, files in os.walk(folder_path):\n",
        "            for file in files:\n",
        "                file_path = os.path.join(root, file)\n",
        "                # Add the file to the zip file, preserving the directory structure\n",
        "                zip_file.write(file_path, os.path.relpath(file_path, folder_path))\n",
        "\n",
        "    return zip_file_path\n",
        "\n",
        "def video_duration(video_file):\n",
        "    # Use ffprobe to get video file information\n",
        "    command = ['ffprobe', '-v', 'error', '-show_entries', 'format=duration', '-of', 'default=noprint_wrappers=1:nokey=1', video_file]\n",
        "\n",
        "    try:\n",
        "        # Execute the command and capture the output\n",
        "        duration = subprocess.check_output(command).decode().strip()\n",
        "\n",
        "        # Convert duration to float and then to hours, minutes, seconds\n",
        "        duration_seconds = float(duration)\n",
        "        hours = int(duration_seconds // 3600)\n",
        "        minutes = int((duration_seconds % 3600) // 60)\n",
        "        seconds = int(duration_seconds % 60)\n",
        "\n",
        "        # Print the formatted duration\n",
        "        print(f\"Video Duration: {hours}h {minutes}m {seconds}s\")\n",
        "    except subprocess.CalledProcessError:\n",
        "        print(\"Error: Could not retrieve video duration.\")\n",
        "    except ValueError:\n",
        "        print(\"Error: Invalid duration format.\")\n",
        "\n",
        "# Example usage\n",
        "\n",
        "\n",
        "\n",
        "def main(video_source, confidence=0.5, skip_frames=False):\n",
        "    importlib.reload(utils)\n",
        "    global base_path\n",
        "    if os.path.exists(f\"{base_path}/FaceFinder/faces\"):\n",
        "      shutil.rmtree(f\"{base_path}/FaceFinder/faces\")\n",
        "    os.makedirs(f\"{base_path}/FaceFinder/faces\")\n",
        "    # Initialize the face detector with the specified model\n",
        "    detector = FaceDetector(model=f'{base_path}/FaceFinder/model/public/ultra-lightweight-face-detection-rfb-320/FP16/ultra-lightweight-face-detection-rfb-320.xml',\n",
        "                            confidence_thr=confidence,\n",
        "                            overlap_thr=0.7)\n",
        "\n",
        "    # Open the video source\n",
        "    video = cv2.VideoCapture(video_source)\n",
        "\n",
        "    # Automatically get FPS and total number of frames from the video source\n",
        "    fps = video.get(cv2.CAP_PROP_FPS)\n",
        "    number_of_frames = int(video.get(cv2.CAP_PROP_FRAME_COUNT))\n",
        "    frame_skip = int(fps) if skip_frames else 1  # Set frame skip based on FPS or process every frame\n",
        "\n",
        "    fps_cum = 0.0\n",
        "\n",
        "    # Loop through the number of frames in the video\n",
        "    for frame_number in tqdm(range(number_of_frames)):\n",
        "        ret, frame = video.read()\n",
        "        if not ret:\n",
        "            print(\"Error reading frame from the video source.\")\n",
        "            break\n",
        "\n",
        "        # Skip frames based on the frame skip setting\n",
        "        if frame_number % frame_skip == 0:\n",
        "            start_time = time.perf_counter()\n",
        "            bboxes, scores = detector.inference(frame)\n",
        "            end_time = time.perf_counter()\n",
        "\n",
        "            fps = 1.0 / (end_time - start_time)\n",
        "            fps_cum += fps\n",
        "            fps_avg = fps_cum / ((frame_number // frame_skip) + 1)\n",
        "\n",
        "            # Draw bounding boxes (you may want to save or process these frames further instead of displaying)\n",
        "            frame = utils.draw_boxes_with_scores(frame, bboxes, scores)\n",
        "\n",
        "            # Optionally save the frame or process it as needed\n",
        "            # For example, you can save the processed frame:\n",
        "            # cv2.imwrite(f'output/frame_{frame_number}.jpg', frame)\n",
        "\n",
        "    video.release()\n",
        "    cv2.destroyAllWindows()\n",
        "video_path=\"video.mp4\"  # @param {type: \"string\"}\n",
        "video_duration(video_path)\n",
        "main(video_source=video_path, confidence=0.5, skip_frames=True)\n",
        "\n",
        "final_zip_path = create_zip_from_folder()\n",
        "print(f\"Zip file created at: {final_zip_path}\")\n",
        "from google.colab import files\n",
        "files.download(final_zip_path)"
      ],
      "metadata": {
        "cellView": "form",
        "id": "FCpJz-JDOO46"
      },
      "execution_count": 27,
      "outputs": []
    },
    {
      "cell_type": "markdown",
      "source": [
        "#many bugs need to fix"
      ],
      "metadata": {
        "id": "onNK-lR_z-V-"
      }
    },
    {
      "cell_type": "code",
      "source": [
        "# def find_face(video_path_or_link,confidence,skip_frames):\n",
        "#   video_extensions = ('.mp4', '.mkv', '.avi', '.mov', '.flv', '.wmv', '.webm')\n",
        "#   if not video_path_or_link.lower().endswith(video_extensions):\n",
        "#     video_path=yt_video_download(video_path_or_link)\n",
        "#   else:\n",
        "#     video_path=video_path_or_link\n",
        "#   confidence=confidence/100\n",
        "#   video_duration(video_path)\n",
        "#   main(video_source=video_path, confidence=0.5, skip_frames=skip_frames)\n",
        "#   zip_path = create_zip_from_folder()\n",
        "#   return zip_path"
      ],
      "metadata": {
        "id": "JxwGjejxZJii"
      },
      "execution_count": 31,
      "outputs": []
    },
    {
      "cell_type": "code",
      "source": [
        "# import gradio as gr\n",
        "# # examples = [[\"https://www.youtube.com/afsdagdsgsda\"]]\n",
        "# gradio_inputs=[gr.Textbox(label=\"Enter a YouTube Link\"),gr.Slider(50, 100, value=50, label=\"Detection Confidence\"),gr.Checkbox(value=True,label=\"Skip Frames\")]\n",
        "# gradio_outputs=[gr.File(label=\"Download Facecs.ZIP\")]\n",
        "# gradio_interface = gr.Interface(fn=find_face, inputs=gradio_inputs,outputs=gradio_outputs , title=\"Extract Face From Video\")#,examples=chatgpt_examples)\n",
        "# gradio_interface.launch(debug=True)"
      ],
      "metadata": {
        "id": "CPoF4r_faKql"
      },
      "execution_count": null,
      "outputs": []
    }
  ]
}